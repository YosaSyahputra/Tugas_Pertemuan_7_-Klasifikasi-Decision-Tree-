{
  "nbformat": 4,
  "nbformat_minor": 0,
  "metadata": {
    "colab": {
      "provenance": [],
      "include_colab_link": true
    },
    "kernelspec": {
      "name": "python3",
      "display_name": "Python 3"
    },
    "language_info": {
      "name": "python"
    }
  },
  "cells": [
    {
      "cell_type": "markdown",
      "metadata": {
        "id": "view-in-github",
        "colab_type": "text"
      },
      "source": [
        "<a href=\"https://colab.research.google.com/github/YosaSyahputra/Tugas_Pertemuan_7_-Klasifikasi-Decision-Tree-/blob/main/DecisionTree.ipynb\" target=\"_parent\"><img src=\"https://colab.research.google.com/assets/colab-badge.svg\" alt=\"Open In Colab\"/></a>"
      ]
    },
    {
      "cell_type": "code",
      "metadata": {
        "id": "IklTYiWZVgVN"
      },
      "source": [
        "#Import Library Scikit Learn untuk Decision Tree, Dataset & Matplotlib\n",
        "from sklearn.tree import DecisionTreeClassifier\n",
        "from sklearn import datasets\n",
        "import matplotlib.pyplot as plt"
      ],
      "execution_count": 1,
      "outputs": []
    },
    {
      "cell_type": "code",
      "metadata": {
        "id": "awYc77BNV88s"
      },
      "source": [
        "#Load Dataset Iris dari library scikit learn\n",
        "iris = datasets.load_iris()\n",
        "features = iris['data']\n",
        "target = iris['target']\n",
        "print(target)"
      ],
      "execution_count": null,
      "outputs": []
    },
    {
      "cell_type": "code",
      "metadata": {
        "id": "Yg3xOE5dWZM7"
      },
      "source": [
        "# Membuat Objek Model Decision Tree\n",
        "decisiontree = DecisionTreeClassifier(random_state=0, max_depth=None, \n",
        "                                      min_samples_split=2, min_samples_leaf=1,\n",
        "                                      min_weight_fraction_leaf=0,\n",
        "                                      max_leaf_nodes=None, \n",
        "                                      min_impurity_decrease=0)"
      ],
      "execution_count": 3,
      "outputs": []
    },
    {
      "cell_type": "code",
      "metadata": {
        "id": "rvS3w3ulaS-h"
      },
      "source": [
        "#Mentraining Model Decision Tree\n",
        "model = decisiontree.fit(features, target)"
      ],
      "execution_count": 4,
      "outputs": []
    },
    {
      "cell_type": "code",
      "metadata": {
        "id": "Qilt5_XdafYe"
      },
      "source": [
        "#Mengambil sampel observasi dan membuat prediksi\n",
        "#Sampel berupa data dimensi kelopak\n",
        "#Fungsi predict() => memeriksa kelas yang dimilikinya\n",
        "#Fungsi predict_proba() => memeriksa probabilitas kelas dari prediksi tersebut\n",
        "observation = [[5, 4, 3, 2]]\n",
        "model.predict(observation)\n",
        "model.predict_proba(observation)"
      ],
      "execution_count": null,
      "outputs": []
    },
    {
      "cell_type": "code",
      "metadata": {
        "id": "X0kEroBEhSA7",
        "colab": {
          "base_uri": "https://localhost:8080/"
        },
        "outputId": "10df4136-9589-4c2c-e9e0-32490d0747b5"
      },
      "source": [
        "#Membuat grafik visualisasi Decision Tree\n",
        "import pydotplus\n",
        "from sklearn import tree\n",
        "dot_data = tree.export_graphviz(decisiontree, out_file=None, \n",
        "                                feature_names=iris['feature_names'], \n",
        "                                class_names=iris['target_names'])\n",
        "from IPython.display import Image\n",
        "graph = pydotplus.graph_from_dot_data(dot_data)\n",
        "Image(graph.create_png())\n",
        "graph.write_png('iris.png')"
      ],
      "execution_count": 8,
      "outputs": [
        {
          "output_type": "execute_result",
          "data": {
            "text/plain": [
              "True"
            ]
          },
          "metadata": {},
          "execution_count": 8
        }
      ]
    }
  ]
}